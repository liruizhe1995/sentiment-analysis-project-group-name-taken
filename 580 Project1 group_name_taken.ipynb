{
 "cells": [
  {
   "cell_type": "code",
   "execution_count": 1,
   "metadata": {},
   "outputs": [
    {
     "name": "stderr",
     "output_type": "stream",
     "text": [
      "[nltk_data] Downloading package stopwords to\n",
      "[nltk_data]     C:\\Users\\wjian\\AppData\\Roaming\\nltk_data...\n",
      "[nltk_data]   Package stopwords is already up-to-date!\n",
      "[nltk_data] Downloading package wordnet to\n",
      "[nltk_data]     C:\\Users\\wjian\\AppData\\Roaming\\nltk_data...\n",
      "[nltk_data]   Package wordnet is already up-to-date!\n"
     ]
    },
    {
     "data": {
      "text/plain": [
       "True"
      ]
     },
     "execution_count": 1,
     "metadata": {},
     "output_type": "execute_result"
    }
   ],
   "source": [
    "import pandas\n",
    "from pandas import DataFrame\n",
    "import statistics\n",
    "import random\n",
    "from random import sample\n",
    "from statistics import mean\n",
    "from matplotlib.pyplot import yscale, xscale, title, plot, grid, legend, xlabel, ylabel\n",
    "from collections import Counter\n",
    "import string\n",
    "import copy\n",
    "from string import *\n",
    "import re\n",
    "import nltk\n",
    "from nltk import FreqDist\n",
    "from nltk.tokenize import TweetTokenizer\n",
    "from nltk.corpus import wordnet\n",
    "from nltk.stem import WordNetLemmatizer\n",
    "from nltk.corpus import stopwords\n",
    "from nltk import pos_tag\n",
    "import zhon\n",
    "from zhon import hanzi\n",
    "from nltk.util import ngrams\n",
    "import collections\n",
    "import wordninja\n",
    "from nltk.classify import NaiveBayesClassifier\n",
    "from nltk.sentiment import SentimentAnalyzer\n",
    "from nltk.sentiment.vader import SentimentIntensityAnalyzer\n",
    "from nltk.sentiment.util import *\n",
    "import numpy as np\n",
    "import sklearn\n",
    "from sklearn import *\n",
    "from sklearn.linear_model import LogisticRegression\n",
    "from sklearn.naive_bayes import MultinomialNB\n",
    "from sklearn import metrics\n",
    "from sklearn.metrics import confusion_matrix\n",
    "from sklearn.metrics import classification_report\n",
    "from sklearn.feature_extraction.text import CountVectorizer\n",
    "from tabulate import tabulate as tb\n",
    "from sklearn.metrics import precision_recall_fscore_support as score\n",
    "nltk.download('stopwords')\n",
    "nltk.download('wordnet')"
   ]
  },
  {
   "cell_type": "markdown",
   "metadata": {},
   "source": [
    "# Task 1: Exploratory Data analysis\n",
    "### Define a function that can read in the tweets data and put it into a dataframe."
   ]
  },
  {
   "cell_type": "code",
   "execution_count": 2,
   "metadata": {},
   "outputs": [],
   "source": [
    "def read_data(path):\n",
    "    # Read in every line of the INPUT file\n",
    "    with open(path,encoding = 'utf-8', mode = 'r') as f:\n",
    "        raw_data = f.readlines()    \n",
    "        \n",
    "    # Put the data into a dataframe that contain 'id','label' and 'text'\n",
    "    split_data = []\n",
    "    for x in raw_data:\n",
    "        cell = x.lower().split('\\t') #lower case\n",
    "        #Also get rid off every '\\n'\n",
    "        cell[-1] = re.sub('\\\\n$','',cell[-1])\n",
    "        split_data.append(cell)\n",
    "\n",
    "    for x in range(len(split_data)):\n",
    "        if len(split_data[x]) == 4:\n",
    "            split_data[x][2] = ' '.join([split_data[x][2],split_data[x][3]])\n",
    "            split_data[x].remove(split_data[x][3])\n",
    "        \n",
    "    return(DataFrame(split_data, columns=['id','label','text']))"
   ]
  },
  {
   "cell_type": "markdown",
   "metadata": {},
   "source": [
    "### Read the INPUT file and get the total number of tweets."
   ]
  },
  {
   "cell_type": "code",
   "execution_count": 3,
   "metadata": {},
   "outputs": [
    {
     "data": {
      "text/plain": [
       "12284"
      ]
     },
     "execution_count": 3,
     "metadata": {},
     "output_type": "execute_result"
    }
   ],
   "source": [
    "df_input = read_data('./data/Dev/INPUT.txt')\n",
    "total_tweets = len(df_input)\n",
    "total_tweets"
   ]
  },
  {
   "cell_type": "markdown",
   "metadata": {},
   "source": [
    "### Get the total number of characters (including spaces)."
   ]
  },
  {
   "cell_type": "code",
   "execution_count": 4,
   "metadata": {},
   "outputs": [
    {
     "data": {
      "text/plain": [
       "1344052"
      ]
     },
     "execution_count": 4,
     "metadata": {},
     "output_type": "execute_result"
    }
   ],
   "source": [
    "total_chars = 0\n",
    "for tweet in df_input['text']:\n",
    "    total_chars += len(tweet)\n",
    "total_chars"
   ]
  },
  {
   "cell_type": "markdown",
   "metadata": {},
   "source": [
    "### Get the average number of characters in each tweet (including spaces)."
   ]
  },
  {
   "cell_type": "code",
   "execution_count": 5,
   "metadata": {},
   "outputs": [
    {
     "data": {
      "text/plain": [
       "109.41484858352328"
      ]
     },
     "execution_count": 5,
     "metadata": {},
     "output_type": "execute_result"
    }
   ],
   "source": [
    "total_chars/total_tweets"
   ]
  },
  {
   "cell_type": "markdown",
   "metadata": {},
   "source": [
    "### Get the total number of distinct words (vocabulary)."
   ]
  },
  {
   "cell_type": "markdown",
   "metadata": {},
   "source": [
    "### (We split hashtags into words)"
   ]
  },
  {
   "cell_type": "code",
   "execution_count": 6,
   "metadata": {},
   "outputs": [],
   "source": [
    "# First, tokenize each tweet.\n",
    "def tokenization(df):\n",
    "    tokenizer = TweetTokenizer()\n",
    "    tweets =[]\n",
    "    for x in df['text']:\n",
    "        tweets.append(tokenizer.tokenize(x))\n",
    "    return(tweets)\n",
    "tokenized_input = tokenization(df_input)"
   ]
  },
  {
   "cell_type": "code",
   "execution_count": 7,
   "metadata": {
    "scrolled": true
   },
   "outputs": [],
   "source": [
    "def normalization(ls):\n",
    "    # Split the hashtags into words\n",
    "    for tweet in ls:\n",
    "        new_list = []\n",
    "        for token in tweet:\n",
    "            if re.match('^#.+', token): # Start with a '#'\n",
    "                new_list.extend(wordninja.split(token))\n",
    "            else:\n",
    "                new_list.append(token)\n",
    "        ls[ls.index(tweet)] = new_list\n",
    "    # Get words.\n",
    "    for tweet in ls:\n",
    "        new_list = []\n",
    "        for token in tweet:\n",
    "            if re.search('[\\d\\/]', token): # contian any number or '/'(often used in an url)\n",
    "                pass\n",
    "            elif re.match('^@.+', token): # remove the \"@\", \n",
    "                new_list.append(re.sub('@','',token))\n",
    "            elif re.search('[\\W]', token): # contain non-alphabet character\n",
    "                if re.match('[a-z]+(?:-[a-z]+)*', token): # word with internal hyphens\n",
    "                    new_list.extend(wordninja.split(token))\n",
    "                elif re.match('(?:[a-z]\\.)+', token): # abbreviation\n",
    "                    new_list.append(token)\n",
    "                else:\n",
    "                    pass\n",
    "            else:\n",
    "                new_list.append(token)\n",
    "        ls[ls.index(tweet)] = new_list\n",
    "    return(ls)\n",
    "normalized_input = normalization(tokenized_input)"
   ]
  },
  {
   "cell_type": "code",
   "execution_count": 8,
   "metadata": {},
   "outputs": [],
   "source": [
    "def get_all(ls):\n",
    "    words =[]\n",
    "    for x in ls:\n",
    "        for y in x:\n",
    "            words.append(y)\n",
    "    return words\n",
    "all_words = get_all(normalized_input)\n",
    "total_words = len(all_words)"
   ]
  },
  {
   "cell_type": "markdown",
   "metadata": {},
   "source": [
    "### Get the average number of words in each tweet."
   ]
  },
  {
   "cell_type": "code",
   "execution_count": 9,
   "metadata": {},
   "outputs": [
    {
     "data": {
      "text/plain": [
       "15.35070009768805"
      ]
     },
     "execution_count": 9,
     "metadata": {},
     "output_type": "execute_result"
    }
   ],
   "source": [
    "total_words/total_tweets"
   ]
  },
  {
   "cell_type": "markdown",
   "metadata": {},
   "source": [
    "### Get the average number and standard deviation of characters per token."
   ]
  },
  {
   "cell_type": "code",
   "execution_count": 10,
   "metadata": {},
   "outputs": [
    {
     "name": "stdout",
     "output_type": "stream",
     "text": [
      "average number:4.89, standard deviation:2.70.\n"
     ]
    }
   ],
   "source": [
    "nums = []\n",
    "for word in all_words:\n",
    "    nums.append(len(word))\n",
    "print(\"average number:{:.2f}, standard deviation:{:.2f}.\".format(np.mean(nums),np.std(nums)))"
   ]
  },
  {
   "cell_type": "markdown",
   "metadata": {},
   "source": [
    "### Get the total number of tokens corresponding to the top 10 most frequent words (types) in the vocabulary."
   ]
  },
  {
   "cell_type": "code",
   "execution_count": 11,
   "metadata": {},
   "outputs": [
    {
     "name": "stdout",
     "output_type": "stream",
     "text": [
      "[('the', 6204), ('to', 3829), ('a', 3218), ('is', 2718), ('of', 2656), ('and', 2586), ('in', 2382), ('for', 1982), ('i', 1920), ('on', 1449)]\n"
     ]
    }
   ],
   "source": [
    "counts = Counter(all_words)\n",
    "print(counts.most_common(10))"
   ]
  },
  {
   "cell_type": "code",
   "execution_count": 12,
   "metadata": {},
   "outputs": [
    {
     "data": {
      "text/plain": [
       "8.487936622254232"
      ]
     },
     "execution_count": 12,
     "metadata": {},
     "output_type": "execute_result"
    }
   ],
   "source": [
    "total_words/len(counts)"
   ]
  },
  {
   "cell_type": "markdown",
   "metadata": {},
   "source": [
    "### Get the total number of distinct n-grams (of words) that appear in the dataset for n=2,3,4,5. "
   ]
  },
  {
   "cell_type": "code",
   "execution_count": 13,
   "metadata": {},
   "outputs": [
    {
     "name": "stdout",
     "output_type": "stream",
     "text": [
      "110042\n",
      "147298\n",
      "146700\n",
      "137551\n"
     ]
    }
   ],
   "source": [
    "def ngram_words(df, n):\n",
    "    n_grams = []\n",
    "    for tweet in df:\n",
    "        for item in ngrams(tweet,n):\n",
    "            n_grams.append(item)\n",
    "    return(len(Counter(n_grams)))\n",
    "print(ngram_words(tokenized_input, 2))\n",
    "print(ngram_words(tokenized_input, 3))\n",
    "print(ngram_words(tokenized_input, 4))\n",
    "print(ngram_words(tokenized_input, 5))"
   ]
  },
  {
   "cell_type": "markdown",
   "metadata": {},
   "source": [
    "### Get the total number of distinct n-grams of characters that appear for n=2,3,4,5,6,7 (Optional)."
   ]
  },
  {
   "cell_type": "code",
   "execution_count": 14,
   "metadata": {},
   "outputs": [
    {
     "name": "stdout",
     "output_type": "stream",
     "text": [
      "795\n",
      "8745\n",
      "29615\n",
      "44494\n",
      "44618\n",
      "37961\n"
     ]
    }
   ],
   "source": [
    "def ngram_characters(df, n):\n",
    "    n_grams = []\n",
    "    for tweet in df:\n",
    "        for token in tweet:\n",
    "            for item in ngrams(token,n):\n",
    "                n_grams.append(item)\n",
    "    return(len(Counter(n_grams)))\n",
    "print(ngram_characters(tokenized_input, 2))\n",
    "print(ngram_characters(tokenized_input, 3))\n",
    "print(ngram_characters(tokenized_input, 4))\n",
    "print(ngram_characters(tokenized_input, 5))\n",
    "print(ngram_characters(tokenized_input, 6))\n",
    "print(ngram_characters(tokenized_input, 7))"
   ]
  },
  {
   "cell_type": "code",
   "execution_count": 15,
   "metadata": {},
   "outputs": [
    {
     "data": {
      "text/plain": [
       "Text(0.5, 1.0, 'Frequency of n-th most frequent word and 1/n line.')"
      ]
     },
     "execution_count": 15,
     "metadata": {},
     "output_type": "execute_result"
    },
    {
     "data": {
      "image/png": "[encoded data removed]",
      "text/plain": [
       "<Figure size 432x288 with 1 Axes>"
      ]
     },
     "metadata": {
      "needs_background": "light"
     },
     "output_type": "display_data"
    }
   ],
   "source": [
    "M = counts.most_common(1)[0][1]\n",
    "plot([c for (w, c) in counts.most_common()])\n",
    "plot([M/i for i in range(1, len(counts)+1)])\n",
    "yscale('log'); xscale('log')\n",
    "title('Frequency of n-th most frequent word and 1/n line.')"
   ]
  },
  {
   "cell_type": "markdown",
   "metadata": {},
   "source": [
    "### Read the dev file, train file and devtest file. They are the training data."
   ]
  },
  {
   "cell_type": "code",
   "execution_count": 16,
   "metadata": {},
   "outputs": [],
   "source": [
    "df_dev = read_data('./data/Gold/dev.txt')\n",
    "df_train = read_data('./data/Gold/train.txt')\n",
    "df_devtest = read_data('./data/Gold/devtest.txt')\n",
    "df_test = read_data('./data/Gold/test.txt')"
   ]
  },
  {
   "cell_type": "code",
   "execution_count": 17,
   "metadata": {
    "scrolled": true
   },
   "outputs": [],
   "source": [
    "# Merge the gold dataset and do tokenization and normalization.\n",
    "df_gold = pandas.concat([df_train,df_dev,df_devtest])\n",
    "tokenized_gold = tokenization(df_gold)\n",
    "normalized_gold = normalization(tokenized_gold)\n",
    "df_gold[\"tokens\"] = normalized_gold"
   ]
  },
  {
   "cell_type": "markdown",
   "metadata": {},
   "source": [
    "### Get out-of-vocabulary words that appear in INPUT file but not in training data."
   ]
  },
  {
   "cell_type": "code",
   "execution_count": 18,
   "metadata": {},
   "outputs": [
    {
     "data": {
      "text/plain": [
       "13839"
      ]
     },
     "execution_count": 18,
     "metadata": {},
     "output_type": "execute_result"
    }
   ],
   "source": [
    "all_words_gold = []\n",
    "for tweet in normalized_gold:\n",
    "    for token in tweet:\n",
    "        all_words_gold.append(token)\n",
    "out_of_vocabulary = set(all_words) - set(all_words_gold)\n",
    "len(out_of_vocabulary)"
   ]
  },
  {
   "cell_type": "code",
   "execution_count": 19,
   "metadata": {},
   "outputs": [],
   "source": [
    "### Look at the vocabulary growth (types) combining 4 gold data sets against the input data."
   ]
  },
  {
   "cell_type": "code",
   "execution_count": 20,
   "metadata": {},
   "outputs": [],
   "source": [
    "# Combine 4 gold data and do tokenization and normal \n",
    "df_combine = pandas.concat([df_train,df_dev,df_devtest,df_test])\n",
    "tokenized_combine = tokenization(df_combine)\n",
    "normalized_combine = normalization(tokenized_combine)\n",
    "\n",
    "# Given a list of words from a corpus, separate the counts of tokens and types in time. Return the two lists.\n",
    "def separate_tokens_types(words):\n",
    "    t_d = {}\n",
    "    tokens, types = [], []\n",
    "    count = 0\n",
    "    for i in range(len(words)):\n",
    "        if words[i] not in t_d:\n",
    "            count += 1\n",
    "            t_d[words[i]] = 1\n",
    "        tokens.append(i + 1)\n",
    "        types.append(count)\n",
    "\n",
    "    return tokens, types"
   ]
  },
  {
   "cell_type": "code",
   "execution_count": 21,
   "metadata": {},
   "outputs": [
    {
     "data": {
      "text/plain": [
       "Text(0, 0.5, 'Num types')"
      ]
     },
     "execution_count": 21,
     "metadata": {},
     "output_type": "execute_result"
    },
    {
     "data": {
      "image/png": "[encoded data removed]",
      "text/plain": [
       "<Figure size 432x288 with 1 Axes>"
      ]
     },
     "metadata": {
      "needs_background": "light"
     },
     "output_type": "display_data"
    }
   ],
   "source": [
    "# Seprate gold data at random\n",
    "all100 = get_all(tokenized_combine)\n",
    "all50 = get_all(sample(tokenized_combine, round(0.5*len(tokenized_combine))))\n",
    "all25 = get_all(sample(tokenized_combine, round(0.25*len(tokenized_combine))))\n",
    "\n",
    "t_tokens, t_types = separate_tokens_types(all_words)\n",
    "t_tokens100, t_types100 = separate_tokens_types(all100)\n",
    "t_tokens50, t_types50 = separate_tokens_types(all50)\n",
    "t_tokens25, t_types25 = separate_tokens_types(all25)\n",
    "\n",
    "# Plot the vacabulaty growth\n",
    "plot(t_tokens, t_types, label='input')\n",
    "plot(t_tokens100, t_types100, label='100% gold')\n",
    "plot(t_tokens50, t_types50, label='50% gold')\n",
    "plot(t_tokens25, t_types25, label='25% gold')\n",
    "\n",
    "grid()\n",
    "legend()\n",
    "title(\"Vacabulaty growth\")\n",
    "xlabel('Num tokens')\n",
    "ylabel('Num types')"
   ]
  },
  {
   "cell_type": "markdown",
   "metadata": {},
   "source": [
    "### What is the class distribution of the training data set?"
   ]
  },
  {
   "cell_type": "code",
   "execution_count": 22,
   "metadata": {},
   "outputs": [
    {
     "data": {
      "text/plain": [
       "positive    4931\n",
       "neutral     3489\n",
       "negative    1579\n",
       "Name: label, dtype: int64"
      ]
     },
     "execution_count": 22,
     "metadata": {},
     "output_type": "execute_result"
    }
   ],
   "source": [
    "df_gold[\"label\"].value_counts()"
   ]
  },
  {
   "cell_type": "markdown",
   "metadata": {},
   "source": [
    "### Look at the difference between the top word types across these three classes."
   ]
  },
  {
   "cell_type": "code",
   "execution_count": 23,
   "metadata": {},
   "outputs": [
    {
     "data": {
      "image/png": "[encoded data removed]",
      "text/plain": [
       "<Figure size 432x288 with 1 Axes>"
      ]
     },
     "metadata": {
      "needs_background": "light"
     },
     "output_type": "display_data"
    },
    {
     "data": {
      "image/png": "[encoded data removed]",
      "text/plain": [
       "<Figure size 432x288 with 1 Axes>"
      ]
     },
     "metadata": {
      "needs_background": "light"
     },
     "output_type": "display_data"
    },
    {
     "data": {
      "image/png": "[encoded data removed]",
      "text/plain": [
       "<Figure size 432x288 with 1 Axes>"
      ]
     },
     "metadata": {
      "needs_background": "light"
     },
     "output_type": "display_data"
    },
    {
     "data": {
      "text/plain": [
       "<matplotlib.axes._subplots.AxesSubplot at 0x1ed9613ab38>"
      ]
     },
     "execution_count": 23,
     "metadata": {},
     "output_type": "execute_result"
    }
   ],
   "source": [
    "pos = df_gold.loc[df_gold[\"label\"] == \"positive\", \"tokens\"]\n",
    "neg = df_gold.loc[df_gold[\"label\"] == \"negative\", \"tokens\"]\n",
    "neutral = df_gold.loc[df_gold[\"label\"] == \"neutral\", \"tokens\"]\n",
    "pos_words = FreqDist(get_all(pos))\n",
    "neg_words = FreqDist(get_all(neg))\n",
    "neutral_words = FreqDist(get_all(neutral))\n",
    "title('Top 20 word types in positive class')\n",
    "pos_words.plot(20, cumulative=False)\n",
    "title('Top 20 word types in negative class')\n",
    "neg_words.plot(20, cumulative=False)\n",
    "title('Top 20 word types in neutral class')\n",
    "neutral_words.plot(20, cumulative=False)"
   ]
  },
  {
   "cell_type": "markdown",
   "metadata": {},
   "source": [
    "### What words are particularly characteristic of your training set and dev set? Are they the same? "
   ]
  },
  {
   "cell_type": "code",
   "execution_count": 24,
   "metadata": {},
   "outputs": [
    {
     "data": {
      "image/png": "[encoded data removed]",
      "text/plain": [
       "<Figure size 432x288 with 1 Axes>"
      ]
     },
     "metadata": {
      "needs_background": "light"
     },
     "output_type": "display_data"
    },
    {
     "data": {
      "image/png": "[encoded data removed]",
      "text/plain": [
       "<Figure size 432x288 with 1 Axes>"
      ]
     },
     "metadata": {
      "needs_background": "light"
     },
     "output_type": "display_data"
    },
    {
     "data": {
      "text/plain": [
       "<matplotlib.axes._subplots.AxesSubplot at 0x1ed955ae908>"
      ]
     },
     "execution_count": 24,
     "metadata": {},
     "output_type": "execute_result"
    }
   ],
   "source": [
    "training_words = FreqDist(get_all(df_gold[\"tokens\"]))\n",
    "dev_words = FreqDist(all_words)\n",
    "title('Top 20 word types in training set')\n",
    "training_words.plot(20, cumulative=False)\n",
    "title('Top 20 word types in dev set')\n",
    "dev_words.plot(20, cumulative=False)"
   ]
  },
  {
   "cell_type": "markdown",
   "metadata": {},
   "source": [
    "The top 20 words of training set and dev set both contain lots of stopwords like \"the\",\"to\",\"I\",\"a\", but they are not the same. The most frequent noun in traing set is \"tommorrow\", while the most frequent noun in dev set is \"Trump\"."
   ]
  },
  {
   "cell_type": "markdown",
   "metadata": {},
   "source": [
    "# Task 2: Message Polarity"
   ]
  },
  {
   "cell_type": "markdown",
   "metadata": {},
   "source": [
    "### Clean the traning data and test data."
   ]
  },
  {
   "cell_type": "code",
   "execution_count": 25,
   "metadata": {},
   "outputs": [],
   "source": [
    "# \"punc\" contains all punctuations, including full-width punctuations like Chinese.\n",
    "punc = string.punctuation + zhon.hanzi.punctuation\n",
    "punc = '[' + punc + ']'\n",
    "\n",
    "stopworddic = set(stopwords.words('english')) "
   ]
  },
  {
   "cell_type": "markdown",
   "metadata": {},
   "source": [
    "### We used regex and lemmatization to clean the data"
   ]
  },
  {
   "cell_type": "code",
   "execution_count": 26,
   "metadata": {},
   "outputs": [],
   "source": [
    "# We have tokenized the traing data in part 1.\n",
    "# Clean it for further analysis.\n",
    "def clean(ls):\n",
    "    for tweets in ls:\n",
    "        new_list = []\n",
    "        for token in tweets:\n",
    "            # Remove # and @ in hashtags.\n",
    "            if re.match('^[#@].+', token):\n",
    "                new_list.append(re.sub('[#@]','', token))\n",
    "            # Remove all tokens with numbers or /.\n",
    "            elif re.search('[\\d\\/]', token):\n",
    "                pass\n",
    "            # Remove urls.\n",
    "            elif re.match('^http+', token):\n",
    "                pass\n",
    "            # Remove all other punctuations.\n",
    "            elif token[0] in punc:\n",
    "                pass\n",
    "            else:\n",
    "                new_list.append(token)\n",
    "        ls[ls.index(tweets)] = new_list\n",
    "    \n",
    "    # Remove stopwords and short words\n",
    "    for tweets in ls:\n",
    "        new_list = []\n",
    "        for token in tweets:\n",
    "            if token not in stopworddic and len(token) > 1:\n",
    "                new_list.append(token)\n",
    "        ls[ls.index(tweets)] = new_list\n",
    "    \n",
    "    # Lemmatization\n",
    "    lemmatizer = WordNetLemmatizer()\n",
    "    for tweets in ls:\n",
    "        tagged_sent = pos_tag(tweets) \n",
    "        lemmas_sent = []\n",
    "        for tag in tagged_sent:\n",
    "            wordnet_pos = get_wordnet_pos(tag[1]) or wordnet.NOUN\n",
    "            lemmas_sent.append(lemmatizer.lemmatize(tag[0], pos=wordnet_pos))\n",
    "        ls[ls.index(tweets)] = lemmas_sent\n",
    "    return(ls)\n",
    "\n",
    "# Get the POS of a word\n",
    "def get_wordnet_pos(tag):\n",
    "    if tag.startswith('J'):\n",
    "        return wordnet.ADJ\n",
    "    elif tag.startswith('V'):\n",
    "        return wordnet.VERB\n",
    "    elif tag.startswith('N'):\n",
    "        return wordnet.NOUN\n",
    "    elif tag.startswith('R'):\n",
    "        return wordnet.ADV\n",
    "    else:\n",
    "        return None"
   ]
  },
  {
   "cell_type": "code",
   "execution_count": 27,
   "metadata": {},
   "outputs": [],
   "source": [
    "# Put cleaned words into sentences and back into dataframe.\n",
    "def join_words(words_list,df):\n",
    "    sentence = []\n",
    "    for x in words_list:\n",
    "        sentence.append(' '.join(y for y in x))\n",
    "    df['text'] = sentence\n",
    "    return(df)\n",
    "\n",
    "df_gold = join_words(clean(tokenized_gold),df_gold)"
   ]
  },
  {
   "cell_type": "code",
   "execution_count": 28,
   "metadata": {},
   "outputs": [],
   "source": [
    "# Clean the test data.\n",
    "tokenized_test = tokenization(df_test)\n",
    "cleaned_words_test = clean(tokenized_test)\n",
    "df_test = join_words(cleaned_words_test,df_test)"
   ]
  },
  {
   "cell_type": "markdown",
   "metadata": {},
   "source": [
    "### Naive Bayes Classifier"
   ]
  },
  {
   "cell_type": "code",
   "execution_count": 29,
   "metadata": {},
   "outputs": [
    {
     "name": "stdout",
     "output_type": "stream",
     "text": [
      "Training classifier\n"
     ]
    }
   ],
   "source": [
    "# Feature function\n",
    "def features(sentence):\n",
    "    words = sentence.lower().split()\n",
    "    return dict(('contains(%s)' % w, True) for w in words)\n",
    "\n",
    "# Features extraction\n",
    "pos_tweets = df_gold.loc[df_gold[\"label\"] == \"positive\", \"text\"]\n",
    "neg_tweets = df_gold.loc[df_gold[\"label\"] == \"negative\", \"text\"]\n",
    "neutral_tweets = df_gold.loc[df_gold[\"label\"] == \"neutral\", \"text\"]\n",
    "\n",
    "positive_featuresets = [(features(tweet),'positive') for tweet in pos_tweets]\n",
    "negative_featuresets = [(features(tweet),'negative') for tweet in neg_tweets]\n",
    "neutral_featuresets = [(features(tweet),'neutral') for tweet in neutral_tweets]\n",
    "training_features = positive_featuresets + negative_featuresets + neutral_featuresets\n",
    "\n",
    "# Training classifier\n",
    "sentiment_analyzer = SentimentAnalyzer()\n",
    "trainer = NaiveBayesClassifier.train\n",
    "classifier = sentiment_analyzer.train(trainer, training_features)"
   ]
  },
  {
   "cell_type": "code",
   "execution_count": 30,
   "metadata": {},
   "outputs": [
    {
     "name": "stdout",
     "output_type": "stream",
     "text": [
      "Evaluating NaiveBayesClassifier results...\n"
     ]
    },
    {
     "data": {
      "text/plain": [
       "{'Accuracy': 0.49646180690189995,\n",
       " 'Precision [negative]': 0.3324547531189598,\n",
       " 'Recall [negative]': 0.5855772206747137,\n",
       " 'F-measure [negative]': 0.4241201524321901,\n",
       " 'Precision [neutral]': 0.6329521086490351,\n",
       " 'Recall [neutral]': 0.34248694643202476,\n",
       " 'F-measure [neutral]': 0.44447233027983435,\n",
       " 'Precision [positive]': 0.5146067415730337,\n",
       " 'Recall [positive]': 0.6812579685507862,\n",
       " 'F-measure [positive]': 0.5863204096561814}"
      ]
     },
     "execution_count": 30,
     "metadata": {},
     "output_type": "execute_result"
    }
   ],
   "source": [
    "# Build the truth_list, from lecture note\n",
    "truth_list_test = list(df_test[['text', 'label']].itertuples(index=False, name=None))\n",
    "for i, (text, expected) in enumerate(truth_list_test):\n",
    "    text_feats = features(text)\n",
    "    truth_list_test[i] = (text_feats, expected)\n",
    "# Perform the test\n",
    "sentiment_analyzer.evaluate(truth_list_test,classifier)"
   ]
  },
  {
   "cell_type": "code",
   "execution_count": 31,
   "metadata": {},
   "outputs": [],
   "source": [
    "# Show bayes results.\n",
    "results = []\n",
    "for item in truth_list_test:\n",
    "    results.append(classifier.classify(item[0]))\n",
    "results\n",
    "None"
   ]
  },
  {
   "cell_type": "markdown",
   "metadata": {},
   "source": [
    "### Vader"
   ]
  },
  {
   "cell_type": "code",
   "execution_count": 32,
   "metadata": {},
   "outputs": [
    {
     "name": "stdout",
     "output_type": "stream",
     "text": [
      "              precision    recall  f1-score   support\n",
      "\n",
      "    positive       0.39      0.63      0.48      3231\n",
      "     neutral       0.66      0.38      0.48     10342\n",
      "    negative       0.50      0.68      0.57      7059\n",
      "\n",
      "    accuracy                           0.52     20632\n",
      "   macro avg       0.52      0.56      0.51     20632\n",
      "weighted avg       0.57      0.52      0.51     20632\n",
      "\n"
     ]
    }
   ],
   "source": [
    "analyzer = SentimentIntensityAnalyzer()\n",
    "with open('./data/Gold/test.txt', 'r') as dataset:\n",
    "    my_lines = dataset.readlines()\n",
    "\n",
    "Y_predicton_vadar = []\n",
    "Y_true = []\n",
    "for my_sentence in my_lines:\n",
    "    my_sentence = my_sentence.strip().split('\\t')\n",
    "    id, label, text = my_sentence[0], my_sentence[1], ' '.join(my_sentence[2:])\n",
    "    vs = analyzer.polarity_scores(text)\n",
    "    \n",
    "    vs_score = vs['compound']\n",
    "    if vs_score >= 0.05:\n",
    "        Y_predicton_vadar.append('positive')\n",
    "    elif vs_score > -0.05:\n",
    "        Y_predicton_vadar.append('neutral')\n",
    "    else:\n",
    "        Y_predicton_vadar.append('negative')\n",
    "    Y_true.append(label)\n",
    "    \n",
    "target_names = ['positive', 'neutral', 'negative']\n",
    "print(classification_report(y_true=Y_true, y_pred=Y_predicton_vadar,target_names=target_names))"
   ]
  },
  {
   "cell_type": "markdown",
   "metadata": {},
   "source": [
    "### Multinomial test"
   ]
  },
  {
   "cell_type": "code",
   "execution_count": 33,
   "metadata": {},
   "outputs": [],
   "source": [
    "X_train = df_gold['text']\n",
    "Y_train = df_gold['label']\n",
    "vectorizer = CountVectorizer(lowercase=False)\n",
    "X_dev = df_test['text']\n",
    "Y_dev = df_test['label']"
   ]
  },
  {
   "cell_type": "code",
   "execution_count": 34,
   "metadata": {},
   "outputs": [],
   "source": [
    "# learn training data vocabulary, then use it to create a document-term matrix\n",
    "\n",
    "# fit\n",
    "vectorizer.fit(X_train)\n",
    "\n",
    "# transform training data\n",
    "X_train_dtm = vectorizer.transform(X_train)"
   ]
  },
  {
   "cell_type": "code",
   "execution_count": 35,
   "metadata": {},
   "outputs": [],
   "source": [
    "#vectorize test data\n",
    "X_test_dtm = vectorizer.transform(X_dev)"
   ]
  },
  {
   "cell_type": "code",
   "execution_count": 36,
   "metadata": {
    "scrolled": true
   },
   "outputs": [
    {
     "data": {
      "text/plain": [
       "MultinomialNB(alpha=1.0, class_prior=None, fit_prior=True)"
      ]
     },
     "execution_count": 36,
     "metadata": {},
     "output_type": "execute_result"
    }
   ],
   "source": [
    "#Train model\n",
    "nb = MultinomialNB(alpha=1.0, class_prior=None, fit_prior=True)\n",
    "nb.fit(X_train_dtm, Y_train)"
   ]
  },
  {
   "cell_type": "code",
   "execution_count": 37,
   "metadata": {},
   "outputs": [
    {
     "name": "stdout",
     "output_type": "stream",
     "text": [
      "              precision    recall  f1-score   support\n",
      "\n",
      "    positive       0.49      0.22      0.31      3231\n",
      "     neutral       0.61      0.37      0.47     10342\n",
      "    negative       0.46      0.84      0.59      7059\n",
      "\n",
      "    accuracy                           0.51     20632\n",
      "   macro avg       0.52      0.48      0.46     20632\n",
      "weighted avg       0.54      0.51      0.48     20632\n",
      "\n"
     ]
    }
   ],
   "source": [
    "Y_prediction_multi = nb.predict(X_test_dtm)\n",
    "target_names = ['positive', 'neutral', 'negative']\n",
    "MTN = classification_report(y_true=Y_dev, y_pred=Y_prediction_multi, target_names=target_names,output_dict=True)\n",
    "print(classification_report(y_true=Y_dev, y_pred=Y_prediction_multi, target_names=target_names))"
   ]
  },
  {
   "cell_type": "markdown",
   "metadata": {},
   "source": [
    "### Logistic regression"
   ]
  },
  {
   "cell_type": "code",
   "execution_count": 38,
   "metadata": {},
   "outputs": [],
   "source": [
    "logreg = LogisticRegression()"
   ]
  },
  {
   "cell_type": "code",
   "execution_count": 39,
   "metadata": {},
   "outputs": [
    {
     "name": "stderr",
     "output_type": "stream",
     "text": [
      "C:\\Users\\wjian\\Anaconda3\\lib\\site-packages\\sklearn\\linear_model\\logistic.py:432: FutureWarning: Default solver will be changed to 'lbfgs' in 0.22. Specify a solver to silence this warning.\n",
      "  FutureWarning)\n",
      "C:\\Users\\wjian\\Anaconda3\\lib\\site-packages\\sklearn\\linear_model\\logistic.py:469: FutureWarning: Default multi_class will be changed to 'auto' in 0.22. Specify the multi_class option to silence this warning.\n",
      "  \"this warning.\", FutureWarning)\n"
     ]
    }
   ],
   "source": [
    "logreg.fit(X_train_dtm, Y_train)\n",
    "None"
   ]
  },
  {
   "cell_type": "code",
   "execution_count": 40,
   "metadata": {},
   "outputs": [
    {
     "name": "stdout",
     "output_type": "stream",
     "text": [
      "              precision    recall  f1-score   support\n",
      "\n",
      "    positive       0.44      0.30      0.36      3231\n",
      "     neutral       0.61      0.43      0.50     10342\n",
      "    negative       0.47      0.75      0.58      7059\n",
      "\n",
      "    accuracy                           0.52     20632\n",
      "   macro avg       0.51      0.49      0.48     20632\n",
      "weighted avg       0.54      0.52      0.51     20632\n",
      "\n"
     ]
    }
   ],
   "source": [
    "Y_prediction_log = logreg.predict(X_test_dtm)\n",
    "target_names = ['positive', 'neutral', 'negative']\n",
    "LGR = classification_report(y_true=Y_dev, y_pred=Y_prediction_log, target_names=target_names,output_dict=True)\n",
    "print(classification_report(y_true=Y_dev, y_pred=Y_prediction_log, target_names=target_names))"
   ]
  },
  {
   "cell_type": "markdown",
   "metadata": {},
   "source": [
    "### Algorithm optimization\n",
    "we combined vader, multinomial, and logistic regression. When two or more results are the same, we would use this result. When all results are different, we use result from vader, since it has the highest accuracy.\n",
    "\n",
    "The following block shows optimization result for \"test.txt\" file"
   ]
  },
  {
   "cell_type": "code",
   "execution_count": 41,
   "metadata": {},
   "outputs": [
    {
     "name": "stdout",
     "output_type": "stream",
     "text": [
      "              precision    recall  f1-score   support\n",
      "\n",
      "    positive       0.46      0.38      0.42      3231\n",
      "     neutral       0.64      0.38      0.48     10342\n",
      "    negative       0.49      0.81      0.61      7059\n",
      "\n",
      "    accuracy                           0.53     20632\n",
      "   macro avg       0.53      0.52      0.50     20632\n",
      "weighted avg       0.56      0.53      0.51     20632\n",
      "\n"
     ]
    }
   ],
   "source": [
    "def summarize(v, m, l):\n",
    "    output = []\n",
    "    for i in range(len(v)):\n",
    "        ls = [v[i], m[i], l[i]]\n",
    "        if Counter(ls).most_common()[0][1] == 1:\n",
    "            if m[i] == \"negative\":\n",
    "                output.append(\"negative\")    \n",
    "            else:\n",
    "                output.append(v[i])\n",
    "        else:\n",
    "            output.append(Counter(ls).most_common()[0][0])\n",
    "    return(output)\n",
    "\n",
    "Y_prediction_sum = summarize(Y_predicton_vadar, Y_prediction_multi, Y_prediction_log)\n",
    "print(classification_report(y_true=Y_dev, y_pred=Y_prediction_sum, target_names=target_names))"
   ]
  },
  {
   "cell_type": "markdown",
   "metadata": {},
   "source": [
    "# Task 3: Performance evaluation"
   ]
  },
  {
   "cell_type": "markdown",
   "metadata": {},
   "source": [
    "## F-measure Table"
   ]
  },
  {
   "cell_type": "code",
   "execution_count": 42,
   "metadata": {
    "scrolled": true
   },
   "outputs": [
    {
     "name": "stdout",
     "output_type": "stream",
     "text": [
      "Evaluating NaiveBayesClassifier results...\n"
     ]
    }
   ],
   "source": [
    "NBT = sentiment_analyzer.evaluate(truth_list_test,classifier)"
   ]
  },
  {
   "cell_type": "code",
   "execution_count": 43,
   "metadata": {},
   "outputs": [],
   "source": [
    "VAD = classification_report(y_true=Y_true, y_pred=Y_predicton_vadar,target_names=target_names,output_dict=True)"
   ]
  },
  {
   "cell_type": "code",
   "execution_count": 44,
   "metadata": {
    "scrolled": true
   },
   "outputs": [
    {
     "name": "stdout",
     "output_type": "stream",
     "text": [
      "Score                  Bayes     Vader    Multinomial    Logistic\n",
      "------------------  --------  --------  -------------  ----------\n",
      "Accuracy            0.496462  0.518806       0.509112    0.516722\n",
      "Positive Precision  0.514607  0.391995       0.493489    0.437669\n",
      "Positive Recall     0.681258  0.63355        0.222841    0.299907\n",
      "Positive f1-score   0.58632   0.484325       0.307036    0.355923\n",
      "Negative Precision  0.332455  0.498798       0.459969    0.47335\n",
      "Negative Recall     0.585577  0.676158       0.836662    0.749823\n",
      "Negative f1-score   0.42412   0.574092       0.593598    0.580341\n",
      "Neutral Precision   0.632952  0.664955       0.612348    0.607933\n",
      "Neutral Recall      0.342487  0.375556       0.374976    0.425353\n",
      "Neutral f1-score    0.444472  0.48001        0.465127    0.500512\n"
     ]
    }
   ],
   "source": [
    "table1=[\n",
    "    ['Accuracy',NBT['Accuracy'],VAD['accuracy'],MTN['accuracy'],LGR['accuracy']],\n",
    "    ['Positive Precision',NBT['Precision [positive]'],VAD['positive']['precision'],MTN['positive']['precision'],LGR['positive']['precision']],\n",
    "    ['Positive Recall',NBT['Recall [positive]'],VAD['positive']['recall'],MTN['positive']['recall'],LGR['positive']['recall']],\n",
    "    ['Positive f1-score',NBT['F-measure [positive]'],VAD['positive']['f1-score'],MTN['positive']['f1-score'],LGR['positive']['f1-score']],\n",
    "    \n",
    "    ['Negative Precision',NBT['Precision [negative]'],VAD['negative']['precision'],MTN['negative']['precision'],LGR['negative']['precision']],\n",
    "    ['Negative Recall',NBT['Recall [negative]'],VAD['negative']['recall'],MTN['negative']['recall'],LGR['negative']['recall']],\n",
    "    ['Negative f1-score',NBT['F-measure [negative]'],VAD['negative']['f1-score'],MTN['negative']['f1-score'],LGR['negative']['f1-score']],\n",
    "    \n",
    "    ['Neutral Precision',NBT['Precision [neutral]'],VAD['neutral']['precision'],MTN['neutral']['precision'],LGR['neutral']['precision']],\n",
    "    ['Neutral Recall',NBT['Recall [neutral]'],VAD['neutral']['recall'],MTN['neutral']['recall'],LGR['neutral']['recall']],\n",
    "    ['Neutral f1-score',NBT['F-measure [neutral]'],VAD['neutral']['f1-score'],MTN['neutral']['f1-score'],LGR['neutral']['f1-score']],\n",
    "]\n",
    "print(tb(table1, headers=['Score','Bayes','Vader','Multinomial','Logistic']))"
   ]
  },
  {
   "cell_type": "markdown",
   "metadata": {},
   "source": [
    "## Average Recall Table"
   ]
  },
  {
   "cell_type": "code",
   "execution_count": 45,
   "metadata": {},
   "outputs": [
    {
     "name": "stdout",
     "output_type": "stream",
     "text": [
      "Score              Bayes     Vader    Multinomial    Logistic\n",
      "--------------  --------  --------  -------------  ----------\n",
      "Average Recall  0.536441  0.561755        0.47816    0.491694\n"
     ]
    }
   ],
   "source": [
    "table2=[\n",
    "    ['Average Recall',\n",
    "    mean([NBT['Recall [positive]'],NBT['Recall [negative]'],NBT['Recall [neutral]']]),\n",
    "    mean([VAD['positive']['recall'],VAD['negative']['recall'],VAD['neutral']['recall']]),\n",
    "    mean([MTN['positive']['recall'],MTN['negative']['recall'],MTN['neutral']['recall']]),\n",
    "    mean([LGR['positive']['recall'],LGR['negative']['recall'],LGR['neutral']['recall']])\n",
    "    ]\n",
    "]\n",
    "print(tb(table2, headers=['Score','Bayes','Vader','Multinomial','Logistic']))"
   ]
  },
  {
   "cell_type": "markdown",
   "metadata": {},
   "source": [
    "### Speculate on the differences between the two performance measures above\n",
    "F-measure would give a more comprehensive measure than recall does. So we could see which specific part has a better performance."
   ]
  },
  {
   "cell_type": "markdown",
   "metadata": {},
   "source": [
    "### Look at your results and find / show examples where your classifiers have mis-performed. What sorts of phenomena do you see and speculate on why you see these errors. Are there distinct differences between classifiers or are differences difficult to see from your results?\n",
    "From the results above, we could see Multinomial and Logistic Regression has very low positive recall scores, when compared to those from Bayes and Vader. The potential reason for this could be that there are too many misidentified positive tweets. This implies the these two regression methods are weak on evaluation on positive tweets."
   ]
  },
  {
   "cell_type": "markdown",
   "metadata": {},
   "source": [
    "### How important was tokenization / feature extraction?\n",
    "Tokenization/feature extraction are important that they would remove many words that serves very little to the inclination of tweets. They would setup a solid base for algorithms to perform analysis. "
   ]
  },
  {
   "cell_type": "markdown",
   "metadata": {},
   "source": [
    "### If you had more time, what might you do differently? What questions do you know have about your analysis that you didn't have before starting?\n",
    "If we had more time, we would make the training data more balanced, since here we have many positive tweets that makes the data unbalanced. \n",
    "\n",
    "We are now curious about the results from Naive Bayes and Multinomial Naive Bayes. The results should be very close to each other, since these two methods stem from the same concept. However, it turns out they differs a lot.  "
   ]
  },
  {
   "cell_type": "markdown",
   "metadata": {},
   "source": [
    "# Answers for INPUT"
   ]
  },
  {
   "cell_type": "markdown",
   "metadata": {},
   "source": [
    "### We use the optimization method from above to decide label for INPUT"
   ]
  },
  {
   "cell_type": "code",
   "execution_count": 46,
   "metadata": {},
   "outputs": [],
   "source": [
    "df_input_cl = read_data('./data/Dev/INPUT.txt')\n",
    "df_input_cl = join_words(clean(tokenization(df_input_cl)),df_input_cl)"
   ]
  },
  {
   "cell_type": "code",
   "execution_count": 47,
   "metadata": {},
   "outputs": [],
   "source": [
    "df_all = pandas.concat([df_gold,df_test])\n",
    "A_train = df_all['text']\n",
    "B_train = df_all['label']"
   ]
  },
  {
   "cell_type": "code",
   "execution_count": 48,
   "metadata": {},
   "outputs": [],
   "source": [
    "vectorizer2 = CountVectorizer(lowercase=False)"
   ]
  },
  {
   "cell_type": "code",
   "execution_count": 49,
   "metadata": {},
   "outputs": [],
   "source": [
    "X_input = df_input_cl['text']\n",
    "vectorizer2.fit(A_train)\n",
    "X_input_dtm = vectorizer2.transform(X_input)\n",
    "A_train_dtm = vectorizer2.transform(A_train)"
   ]
  },
  {
   "cell_type": "markdown",
   "metadata": {},
   "source": [
    "### logistic"
   ]
  },
  {
   "cell_type": "code",
   "execution_count": 50,
   "metadata": {},
   "outputs": [],
   "source": [
    "logreg_input = LogisticRegression()\n",
    "logreg_input.fit(A_train_dtm, B_train)\n",
    "None"
   ]
  },
  {
   "cell_type": "code",
   "execution_count": 51,
   "metadata": {},
   "outputs": [],
   "source": [
    "log_pred = logreg_input.predict(X_input_dtm)"
   ]
  },
  {
   "cell_type": "markdown",
   "metadata": {},
   "source": [
    "### multinomial"
   ]
  },
  {
   "cell_type": "code",
   "execution_count": 52,
   "metadata": {},
   "outputs": [],
   "source": [
    "nb1 = MultinomialNB(alpha=1.0, class_prior=None, fit_prior=True)\n",
    "nb1.fit(A_train_dtm, B_train)\n",
    "multi_pred = nb1.predict(X_input_dtm)"
   ]
  },
  {
   "cell_type": "markdown",
   "metadata": {},
   "source": [
    "### Vader"
   ]
  },
  {
   "cell_type": "code",
   "execution_count": 53,
   "metadata": {},
   "outputs": [],
   "source": [
    "with open('./data/Dev/INPUT.txt', 'r',encoding='utf-8') as dataset:\n",
    "    mylines = dataset.readlines()\n",
    "\n",
    "vad_pred = []\n",
    "\n",
    "for my_sentence in mylines:\n",
    "    my_sentence = my_sentence.strip().split('\\t')\n",
    "    id, label, text = my_sentence[0], my_sentence[1], ' '.join(my_sentence[2:])\n",
    "    vs = analyzer.polarity_scores(text)\n",
    "    \n",
    "    vs_score = vs['compound']\n",
    "    if vs_score >= 0.05:\n",
    "        vad_pred.append('positive')\n",
    "    elif vs_score > -0.05:\n",
    "        vad_pred.append('neutral')\n",
    "    else:\n",
    "        vad_pred.append('negative')"
   ]
  },
  {
   "cell_type": "markdown",
   "metadata": {},
   "source": [
    "### Use opimized algorithm."
   ]
  },
  {
   "cell_type": "code",
   "execution_count": 55,
   "metadata": {},
   "outputs": [],
   "source": [
    "df_output = DataFrame(columns=['id','label'])\n",
    "df_output['id'] = df_input['id']\n",
    "df_output['label'] = summarize(vad_pred,multi_pred,log_pred)\n",
    "df_output.to_csv ('Output.csv', index = None, header=True, mode='w')"
   ]
  }
 ],
 "metadata": {
  "kernelspec": {
   "display_name": "Python 3",
   "language": "python",
   "name": "python3"
  },
  "language_info": {
   "codemirror_mode": {
    "name": "ipython",
    "version": 3
   },
   "file_extension": ".py",
   "mimetype": "text/x-python",
   "name": "python",
   "nbconvert_exporter": "python",
   "pygments_lexer": "ipython3",
   "version": "3.6.8"
  }
 },
 "nbformat": 4,
 "nbformat_minor": 2
}
